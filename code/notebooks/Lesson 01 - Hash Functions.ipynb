{
 "cells": [
  {
   "cell_type": "code",
   "execution_count": 1,
   "id": "f0c77239",
   "metadata": {},
   "outputs": [
    {
     "name": "stdout",
     "output_type": "stream",
     "text": [
      "/home/bitnami/notebooks/repos/realworld-cryptography-studygroup/code/lesson_01-Hash_Functions\n"
     ]
    }
   ],
   "source": [
    "%cd /home/bitnami/notebooks/repos/realworld-cryptography-studygroup/code/lesson_01-Hash_Functions\n",
    "from IPython.display import Image, display"
   ]
  },
  {
   "cell_type": "markdown",
   "id": "968d6f84",
   "metadata": {},
   "source": [
    "# Lesson 1 - Hash Functions"
   ]
  },
  {
   "cell_type": "markdown",
   "id": "f5dd4430",
   "metadata": {},
   "source": [
    "This lesson covers **Hash Functions** in all their primative glory!"
   ]
  },
  {
   "cell_type": "markdown",
   "id": "0ab330b9",
   "metadata": {},
   "source": [
    "### Primary Sources\n",
    "- Real World Cryptography (2021)          - Ch 0-1 Hash Functions\n",
    "- Practical Cryptography in Python (2019) - Ch 0-1\n",
    "   \n",
    "### Math Concepts\n",
    "\n",
    "**Combinations vs Permutations [20][20]**\n",
    "\n",
    "Combination: If you don’t care what order you have things, it’s a combination. Think of combining ingredients, or musical chords: Flour, salt and water in a bowl is the same as salt, water and flour. Lottery tickets, where you pick a few numbers, are a combination. That’s because the order doesn’t matter (but the numbers you select do). You can also have combinations in mathematics, like combinations of functions or linear combinations.\n",
    "\n",
    "Permutation: If you do care about order, it’s a permutation. Picking winners for a first, second and third place raffle is a permutation, because the order matters. Permutation isn’t a word you use in everyday language. It’s the more complex of the two. Details matters: Eggs first? Then salt? Or flour first?\n",
    "\n",
    "[20]: https://www.statisticshowto.com/probability-and-statistics/probability-main-index/permutation-combination-formula\n",
    "\n",
    "\n",
    "**Hexidecimal [21] [22] [23] **\n",
    "\n",
    "Hexidecimal (also base 16 or simply hex) numeral system is a positional numeral system that represents numbers using a radix (base) of 16. Unlike the decimal system representing numbers using 10 symbols, hexadecimal uses 16 distinct symbols, most often the symbols \"0\"–\"9\" to represent values 0 to 9, and \"A\"–\"F\" (or alternatively \"a\"–\"f\") to represent values from 10 to 15.\n",
    "\n",
    "Ascii string character is 8 bits. 8 bits = 1 byte. 1 byte = 1 character.\n",
    "\n",
    "MD5 hash is not a string of characters, but hexdigits. 1 hexdigit (0-15 or 0-F) represents four bits, not eight. 2 hexdigits = 1 byte = 8 bits. MD5 is 32 hexdigits representing a 16 bytes (256 bits).\n",
    "\n",
    "A hex \"character\" (nibble) is different from a \"character\". To be clear on the bits vs byte, vs characters.\n",
    "* 1 byte is 8 bits (for our purposes)\n",
    "* 8 bits provides 2**8 possible combinations: 256 combinations\n",
    "* When you look at a hex character,\n",
    " * 16 combinations of [0-9] + [a-f]: the full range of 0,1,2,3,4,5,6,7,8,9,a,b,c,d,e,f\n",
    " * 16 is less than 256, so one one hex character does not store a byte.\n",
    " * 16 is 2**4: that means one hex character can store 4 bits in a byte (half a byte).\n",
    "* Therefore, two hex characters, can store 8 bits, 2**8 combinations.\n",
    "\n",
    "A byte represented as a hex character is [0-9a-f][0-9a-f] and that represents both halfs of a byte (we call a half-byte a nibble).\n",
    "\n",
    "When you look at a regular single-byte character (multi-byte and wide-characters) it can store far more than 16 combinations.\n",
    "\n",
    "The capabilities of the character are determined by the encoding. For instance, the ISO 8859-1 that stores an entire byte, stores all this stuff. All that stuff takes the entire 2**8 range.\n",
    "\n",
    "Summary\n",
    "* One hex digit = 1 nibble (four-bits)\n",
    "* Two hex digits = 1 byte (eight-bits)\n",
    "* MD5 = 32 hex digits\n",
    "* 32 hex digits = 16 bytes (32 / 2)\n",
    "* 16 bytes = 128 bits (16 * 8)\n",
    "\n",
    "[21]: https://en.wikipedia.org/wiki/Hexadecimal\n",
    "[22]: https://stackoverflow.com/a/41618070 \n",
    "[23]: https://stackoverflow.com/a/57881578\n",
    "\n",
    "\n"
   ]
  },
  {
   "cell_type": "markdown",
   "id": "9ba259a9",
   "metadata": {},
   "source": [
    "## Exercise 1) MD5\n",
    "1. MD5 is ‘insecure/broken’ in what ways? What properties are vunlernable to which types of attacks.\n",
    "2. Demonstrate one or more attacks of MD5. \n",
    "3. When might it still be a valid / usable solution?\n",
    "\n",
    "It has been proven ([1][1]) feasible to find collisions when using MD5 for cryptographic hashing. According to wikipedia, an theoretical attack against MD5 was also published that breaks MD5's preimage resistance ([2][2]).\n",
    "\n",
    "See my `EXAMPLE 1` below. proving the md5 vulnerability in Python. \n",
    "\n",
    "More examples here: [4][4] [5][5] [6][6]. \n",
    "\n",
    "Plus an example breaking MD5 with only a single 64 byte (512 bits) input, with only 2 bit differeing. [7][7]\n",
    "\n",
    "```\n",
    ">>> from array import array\n",
    ">>> from hashlib import md5\n",
    ">>> input1 = array('I',  [0x6165300e,0x87a79a55,0xf7c60bd0,0x34febd0b,0x6503cf04,\n",
    "    0x854f709e,0xfb0fc034,0x874c9c65,0x2f94cc40,0x15a12deb,0x5c15f4a3,0x490786bb,\n",
    "    0x6d658673,0xa4341f7d,0x8fd75920,0xefd18d5a])\n",
    ">>> input2 = array('I', [x^y for x,y in zip(input1,\n",
    "    [0, 0, 0, 0, 0, 1<<10, 0, 0, 0, 0, 1<<31, 0, 0, 0, 0, 0])])\n",
    ">>> input1 == input2\n",
    "False\n",
    ">>> md5(input1).hexdigest()\n",
    "'cee9a457e790cf20d4bdaa6d69f01e41'\n",
    ">>> md5(input2).hexdigest()\n",
    "'cee9a457e790cf20d4bdaa6d69f01e41'\n",
    "```\n",
    "\n",
    "It could still be used as a checksum function to verify file integrity. But rather not even there, unless dealing with legacy systems. [3][3]\n",
    "\n",
    "[1]: https://www.mscs.dal.ca/~selinger/md5collision/\n",
    "[2]: https://en.wikipedia.org/wiki/MD5#Preimage_vulnerability\n",
    "[3]: https://security.stackexchange.com/questions/34488/using-md5-for-file-integrity-checks\n",
    "[4]: https://marc-stevens.nl/research/md5-1block-collision/\n",
    "[5]: https://stackoverflow.com/questions/61440958/how-to-find-a-collision-of-first-56-btis-for-md5md5x-for-input-data-with-the\n",
    "[6]: https://github.com/thereal1024/python-md5-collision\n",
    "[7]: http://eprint.iacr.org/2013/170\n"
   ]
  },
  {
   "cell_type": "code",
   "execution_count": null,
   "id": "696e05ac",
   "metadata": {},
   "outputs": [],
   "source": [
    "#EXAMPLE 1 ./e0101.py\n",
    "from e0101 import main\n",
    "main()"
   ]
  },
  {
   "cell_type": "markdown",
   "id": "224d90c5",
   "metadata": {},
   "source": [
    "### 2) What is the theoretical number of attempts required to brute force a MD5 hash digest?\n",
    "\n",
    "To brute force a hash, you must attempt ever possible combination of bytes that the hash could be.\n",
    "\n",
    "MD5 hashes are 128bits or 16 bytes or 32 hex digits, fixed length. (8 bits per byte)\n",
    "\n",
    "It should take around 2^64 tries to to find collisions"
   ]
  },
  {
   "cell_type": "code",
   "execution_count": 2,
   "id": "9571eb37",
   "metadata": {
    "scrolled": true
   },
   "outputs": [
    {
     "name": "stdout",
     "output_type": "stream",
     "text": [
      "RWC C01 E02: Encoding / Decoding Bytes v0.1.0\n",
      "ASCII   :  A\n",
      "Bin     :  1000001  (7 bits)\n",
      "B16     :  b'41' A\n",
      "B64     :  b'QQ=='\n",
      "MD5     :  7fc56270e7a70fa81a5935b72eacbe29\n",
      "SHA256  :  559aead08264d5795d3909718cdd05abd49572e84fe55590eef31a88a08fdffd\n"
     ]
    }
   ],
   "source": [
    "from e0102 import main\n",
    "main()"
   ]
  },
  {
   "cell_type": "markdown",
   "id": "2ef1e325",
   "metadata": {},
   "source": [
    "## 3) Find a collision of first 4 bits for MD5(x)"
   ]
  },
  {
   "cell_type": "code",
   "execution_count": null,
   "id": "b85537e1",
   "metadata": {},
   "outputs": [],
   "source": [
    "import sys\n",
    "\n",
    "class RRange:\n",
    "    def __init__(self, maxsize=sys.maxsize):\n",
    "        self.maxsize = maxsize\n",
    "    def __iter__(self):\n",
    "        return self\n",
    "    def __next__(self):\n",
    "        return random.randrange(0, self.maxsize)\n",
    "\n",
    "\n",
    "def md5_find_collisions(target_bytes, byte_filter, max_iter, one=True):\n",
    "    _md5 = as_md5(PRE_STR)  \n",
    "    target_nibble = _md5[:byte_filter]\n",
    "    collisions = []\n",
    "    for k in range(0, sys.maxsize):\n",
    "        rint = next(RRange())\n",
    "        e_str = str(rint).encode()\n",
    "        check_md5 = _digest_bytes(e_str, hashlib.md5)\n",
    "        check_nib = check_md5[:byte_filter]\n",
    "        if target_nibble == check_nib:\n",
    "            collisions.append((target_nibble, byte_filter, _md5, check_md5))\n",
    "        if k >= max_iter or len(collisions) > 0:\n",
    "            break\n",
    "    return collisions\n",
    "\n",
    "PRE_STR = \"A\"\n",
    "\n",
    "# 2^16 == 65536, 2^17 == 131072, 2^18 == 262144\n",
    "max_iter = int(math.pow(2, 25))\n",
    "\n",
    "s_ts = time.perf_counter()\n",
    "collisions = md5_find_collisions(PRE_STR, 6, max_iter)\n",
    "e_ts = time.perf_counter()\n",
    "print ( 'Finished in {:0.4f}s'.format(float((e_ts - s_ts))) )\n",
    "\n",
    "print (f'Collisions: {len(collisions)} (max_iter: {max_iter})')\n",
    "\n",
    "for c in collisions:\n",
    "    print (f'{c[0]} < {c[1]} >> {c[2]}')"
   ]
  },
  {
   "cell_type": "code",
   "execution_count": null,
   "id": "a10eca48",
   "metadata": {},
   "outputs": [],
   "source": []
  },
  {
   "cell_type": "code",
   "execution_count": null,
   "id": "15f36113",
   "metadata": {},
   "outputs": [],
   "source": []
  }
 ],
 "metadata": {
  "kernelspec": {
   "display_name": "Python 3 (ipykernel)",
   "language": "python",
   "name": "python3"
  },
  "language_info": {
   "codemirror_mode": {
    "name": "ipython",
    "version": 3
   },
   "file_extension": ".py",
   "mimetype": "text/x-python",
   "name": "python",
   "nbconvert_exporter": "python",
   "pygments_lexer": "ipython3",
   "version": "3.8.12"
  }
 },
 "nbformat": 4,
 "nbformat_minor": 5
}
